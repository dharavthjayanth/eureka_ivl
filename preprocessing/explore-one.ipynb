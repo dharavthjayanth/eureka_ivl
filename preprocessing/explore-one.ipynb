{
 "cells": [
  {
   "cell_type": "code",
   "execution_count": 1,
   "metadata": {},
   "outputs": [
    {
     "data": {
      "text/plain": [
       "True"
      ]
     },
     "execution_count": 1,
     "metadata": {},
     "output_type": "execute_result"
    }
   ],
   "source": [
    "import os\n",
    "import io\n",
    "import pandas as pd\n",
    "from dotenv import load_dotenv\n",
    "from azure.storage.blob import ContainerClient\n",
    "\n",
    "# Load environment variables\n",
    "load_dotenv()"
   ]
  },
  {
   "cell_type": "code",
   "execution_count": 2,
   "metadata": {},
   "outputs": [],
   "source": [
    "CONNECTION_STRING = os.getenv(\"AZURE_STORAGE_CONNECTION_STRING\")\n",
    "CONTAINER_NAME = os.getenv(\"AZURE_BLOB_CONTAINER_NAME\")\n",
    "\n",
    "container_client = ContainerClient.from_connection_string(\n",
    "    conn_str=CONNECTION_STRING,\n",
    "    container_name=CONTAINER_NAME\n",
    ")"
   ]
  },
  {
   "cell_type": "code",
   "execution_count": 3,
   "metadata": {},
   "outputs": [
    {
     "name": "stdout",
     "output_type": "stream",
     "text": [
      "\n",
      "📁 Exploring: CPET/\n",
      "📄 Reading: CPET/Sales_CPET_NEW.xlsx\n",
      "  Company_Code              Company_name  Sales_Organization  \\\n",
      "0         ES10  Indorama Ventures Química               ES10   \n",
      "1         ES10  Indorama Ventures Química               ES10   \n",
      "2         ES10  Indorama Ventures Química               ES10   \n",
      "3         ES10  Indorama Ventures Química               ES10   \n",
      "4         ES10  Indorama Ventures Química               ES10   \n",
      "\n",
      "  Sales_Organization_Name Plant               Plant_Name Sales_Invoice_Date  \\\n",
      "0               IVQ S.L.U  E115  FABRICA DE GUADARRANQUE         2024-01-31   \n",
      "1               IVQ S.L.U  E115  FABRICA DE GUADARRANQUE         2024-02-01   \n",
      "2               IVQ S.L.U  E115  FABRICA DE GUADARRANQUE         2024-02-01   \n",
      "3               IVQ S.L.U  E115  FABRICA DE GUADARRANQUE         2024-02-01   \n",
      "4               IVQ S.L.U  E115  FABRICA DE GUADARRANQUE         2024-02-01   \n",
      "\n",
      "           Billing_Type                    Customer Sales_Order_No  ...  \\\n",
      "0  Pro Forma w.r.t.Intr  INDORAMA VENTURES MOBILITY       20256048  ...   \n",
      "1            Debit Memo       ARKEMA QUIMICA S.A.U.       80046539  ...   \n",
      "2  Consolidated Billing                NOSOPLAS SLU       20149790  ...   \n",
      "3  Consolidated Billing                NOSOPLAS SLU       20149790  ...   \n",
      "4  Consolidated Billing            QUIMIDROGA, S.A.       20157471  ...   \n",
      "\n",
      "     FOB_Price  Credit_Insurance_Cost Interest_Cost Chemical_Additives  \\\n",
      "0   762.692644                    0.0           0.0           8.836597   \n",
      "1  1455.969366                    0.0           0.0          17.730292   \n",
      "2  1514.381213                    0.0           0.0          23.229310   \n",
      "3  1514.381213                    0.0           0.0          23.229310   \n",
      "4  1081.700866                    0.0           0.0          23.211858   \n",
      "\n",
      "  Power_Fuel_Utilities Packing_Cost RM_Other_Cost Export_Incentive  \\\n",
      "0           107.948106     4.770015             0              0.0   \n",
      "1           174.829854    25.035628             0              0.0   \n",
      "2           159.451361     0.026394             0              0.0   \n",
      "3           159.451361     0.026394             0              0.0   \n",
      "4           159.450370    16.198470             0              0.0   \n",
      "\n",
      "   Gross_Price    CNF_Price  \n",
      "0   762.692644   762.692644  \n",
      "1  1455.969366  1455.969366  \n",
      "2  1514.381213  1514.381213  \n",
      "3  1514.381213  1514.381213  \n",
      "4  1081.700866  1081.700866  \n",
      "\n",
      "[5 rows x 53 columns]\n",
      "\n",
      "📁 Exploring: PACKAGING/\n",
      "📄 Reading: PACKAGING/Fiori_Spend_Analysis.xlsx\n",
      "  Company_Code  Purchase_Order Purchase_Order_Date Cost_Center      Material  \\\n",
      "0         NG10      4500152362          04.01.2024         NaN  2.003003e+09   \n",
      "1         NG10      4500152363          08.01.2024         NaN  1.004001e+09   \n",
      "2         NG10      4500152364          09.01.2024         NaN  4.104116e+09   \n",
      "3         NG10      4500152365          09.01.2024         NaN  5.004000e+09   \n",
      "4         NG10      4500152366          06.01.2024         NaN  2.003000e+09   \n",
      "\n",
      "                      Material_description  Material_Group  \\\n",
      "0                     PET,N1,A,JB/NL,1200KG            PET   \n",
      "1                   METALLICGREEN,A,CON15KG      COLORANTS   \n",
      "2  AC,SYS,TY WALL MOUNTED SPLIT UNIT,LG,2HP       AIR-CIRC   \n",
      "3   PAD,PKG,LAYER,L:1190 X W:990 X GSM:430,        PACKAGE   \n",
      "4               PET,TI,S1,A,JB/NL,1200KG,NB            PET   \n",
      "\n",
      "  Material_Group description  Plant          Plant_description   Supplier  \\\n",
      "0                         PET  M106     Bevpak Nigeria Ltd, PHC    ICM107   \n",
      "1                   COLORANTS  M106     Bevpak Nigeria Ltd, PHC  11235059   \n",
      "2         AIR CIRCULATION AND  M106     Bevpak Nigeria Ltd, PHC  12241811   \n",
      "3        PACKAGING & SUPPLIES  M106     Bevpak Nigeria Ltd, PHC  13235298   \n",
      "4                         PET  M105  Bevpak Nigeria Ltd, Ibadan    ICA312   \n",
      "\n",
      "                Supplier_description  Supplier_Country description   \\\n",
      "0       Indorama PET Nigeria Ltd, PHC                       Nigeria   \n",
      "1  Global Polytech Africa Private Ltd                         India   \n",
      "2                  FOUANI NIGERIA LTD                       Nigeria   \n",
      "3           Plenco Industries Limited                       Nigeria   \n",
      "4    Guangdong Ivl Pet Polymer Co Ltd                         China   \n",
      "\n",
      "  WBS_Element WBS_Element_description   PO_Net_Amount  Quantity UOM  \n",
      "0         NaN                      NaN      596343.74     324.0  MT  \n",
      "1         NaN                      NaN       94012.62    3000.0  KG  \n",
      "2         NaN                      NaN         717.36       1.0  PC  \n",
      "3         NaN                      NaN       11482.06   25000.0  PC  \n",
      "4         NaN                      NaN      462000.00  528000.0  KG  \n"
     ]
    }
   ],
   "source": [
    "subfolders = [\"CPET/\", \"PACKAGING/\"]\n",
    "\n",
    "for folder in subfolders:\n",
    "    print(f\"\\n📁 Exploring: {folder}\")\n",
    "    for blob in container_client.list_blobs(name_starts_with=folder):\n",
    "        if blob.name.endswith(\".xlsx\"):\n",
    "            print(f\"📄 Reading: {blob.name}\")\n",
    "            blob_data = container_client.download_blob(blob).readall()\n",
    "            df = pd.read_excel(io.BytesIO(blob_data))\n",
    "            \n",
    "            print(df.head())"
   ]
  },
  {
   "cell_type": "code",
   "execution_count": null,
   "metadata": {},
   "outputs": [],
   "source": []
  },
  {
   "cell_type": "code",
   "execution_count": null,
   "metadata": {},
   "outputs": [],
   "source": []
  },
  {
   "cell_type": "code",
   "execution_count": null,
   "metadata": {},
   "outputs": [],
   "source": []
  },
  {
   "cell_type": "code",
   "execution_count": null,
   "metadata": {},
   "outputs": [],
   "source": []
  },
  {
   "cell_type": "code",
   "execution_count": null,
   "metadata": {},
   "outputs": [],
   "source": []
  }
 ],
 "metadata": {
  "kernelspec": {
   "display_name": "eu-venv",
   "language": "python",
   "name": "python3"
  },
  "language_info": {
   "codemirror_mode": {
    "name": "ipython",
    "version": 3
   },
   "file_extension": ".py",
   "mimetype": "text/x-python",
   "name": "python",
   "nbconvert_exporter": "python",
   "pygments_lexer": "ipython3",
   "version": "3.11.8"
  }
 },
 "nbformat": 4,
 "nbformat_minor": 2
}
